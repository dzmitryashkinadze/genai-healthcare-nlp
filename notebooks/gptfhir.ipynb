{
 "cells": [
  {
   "cell_type": "code",
   "execution_count": 1,
   "metadata": {},
   "outputs": [],
   "source": [
    "import logging\n",
    "\n",
    "# set up logging into the file\n",
    "logging.basicConfig(\n",
    "    filename=\"logs.txt\",\n",
    "    filemode=\"w\",\n",
    "    format=\"%(asctime)s %(levelname)s %(message)s\",\n",
    "    level=logging.INFO,\n",
    ")"
   ]
  },
  {
   "cell_type": "code",
   "execution_count": 2,
   "metadata": {},
   "outputs": [],
   "source": [
    "import yaml\n",
    "import pandas as pd\n",
    "from gpt_fhir.llmExtractor import LLMExtractor\n",
    "from gpt_fhir.fhirTools import FHIRTools\n",
    "from gpt_fhir.fhir import FHIR\n",
    "from gpt_fhir.annotator import Annotator\n",
    "\n",
    "# load the config file\n",
    "with open(\"../config.yaml\", \"r\") as f:\n",
    "    config = yaml.safe_load(f)\n",
    "\n",
    "# set up annotator\n",
    "annotator = Annotator()\n",
    "\n",
    "# set up FHIR client\n",
    "fhir = FHIR(config, annotator)\n",
    "\n",
    "# set up FHIR tools\n",
    "fhir_tools = FHIRTools(config, fhir)\n",
    "\n",
    "# set up llm chat\n",
    "llm_extractor = LLMExtractor(config, fhir_tools)"
   ]
  },
  {
   "cell_type": "code",
   "execution_count": 9,
   "metadata": {},
   "outputs": [
    {
     "name": "stdout",
     "output_type": "stream",
     "text": [
      "[{'clinicalStatus': {'text': 'resolved'}, 'code': {'coding': [{'code': '127012008', 'display': 'Lipoatrophic diabetes', 'system': 'http://snomed.info/sct'}], 'text': 'Diabetes'}, 'subject': {'reference': 'Patient/1'}, 'resourceType': 'Condition'}]\n"
     ]
    }
   ],
   "source": [
    "# empty the resources\n",
    "fhir.empty_resources()\n",
    "\n",
    "# test llm extractor\n",
    "text = \"patient has a history of diabetes\"\n",
    "llm_extractor.extract(text)\n",
    "\n",
    "# print extracted FHIR resources\n",
    "print(fhir.get_resources())"
   ]
  },
  {
   "cell_type": "code",
   "execution_count": 4,
   "metadata": {},
   "outputs": [],
   "source": [
    "# run FHIR extractor on all patients\n",
    "data = pd.read_csv(\"../data/fhir_notes.csv\")\n",
    "\n",
    "# process each row\n",
    "def extract_fhir(d):\n",
    "\n",
    "    # empty FHIR resources\n",
    "    fhir.empty_resources()\n",
    "\n",
    "    # log entry\n",
    "    logging.info(f\"NOTE: {d['note']}\")\n",
    "\n",
    "    # run llm extractor\n",
    "    llm_extractor.extract(d[\"note\"])\n",
    "\n",
    "    # return the created procedure\n",
    "    return fhir.get_resources()\n",
    "\n",
    "\n",
    "# apply the function to each row\n",
    "data[\"extracted\"] = data.apply(extract_fhir, axis=1)\n",
    "\n",
    "# save the data with extracted FHIR resources\n",
    "data.to_csv(\"../data/fhir_notes_extracted.csv\", index=False)"
   ]
  }
 ],
 "metadata": {
  "kernelspec": {
   "display_name": "gpt",
   "language": "python",
   "name": "python3"
  },
  "language_info": {
   "codemirror_mode": {
    "name": "ipython",
    "version": 3
   },
   "file_extension": ".py",
   "mimetype": "text/x-python",
   "name": "python",
   "nbconvert_exporter": "python",
   "pygments_lexer": "ipython3",
   "version": "3.11.4"
  },
  "orig_nbformat": 4
 },
 "nbformat": 4,
 "nbformat_minor": 2
}
