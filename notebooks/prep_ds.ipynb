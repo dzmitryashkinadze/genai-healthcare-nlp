{
 "cells": [
  {
   "cell_type": "code",
   "execution_count": 51,
   "metadata": {},
   "outputs": [],
   "source": [
    "import pandas as pd\n",
    "import fhirclient.models.observation as o\n",
    "import fhirclient.models.patient as p\n",
    "from fhirclient import client\n",
    "\n",
    "# connection to server\n",
    "settings = {\n",
    "    'app_id': 'my_web_app',\n",
    "    'api_base': 'http://localhost:8080/fhir/'\n",
    "}\n",
    "fhir_client = client.FHIRClient(settings=settings)\n",
    "\n",
    "# get data\n",
    "data = pd.read_csv('../data/raw_data.csv', sep=';')\n",
    "\n",
    "# create a patient\n",
    "patient = p.Patient({\n",
    "    'name': [{'text': 'John Dae'}]\n",
    "})\n",
    "\n",
    "# convert each observation to FHIR and write to the FHIR server\n",
    "for ind, raw in data.iterrows():\n",
    "    test = o.Observation({\n",
    "        \"status\": 'preliminary',\n",
    "        \"code\": {\"text\": data.iloc[ind,1]},\n",
    "        \"subject\": {\n",
    "            \"reference\": \"Patient/1\",\n",
    "            \"display\": \"John Dae\"\n",
    "        },\n",
    "    })\n",
    "    test.create(fhir_client.server)"
   ]
  }
 ],
 "metadata": {
  "kernelspec": {
   "display_name": "gpt",
   "language": "python",
   "name": "python3"
  },
  "language_info": {
   "codemirror_mode": {
    "name": "ipython",
    "version": 3
   },
   "file_extension": ".py",
   "mimetype": "text/x-python",
   "name": "python",
   "nbconvert_exporter": "python",
   "pygments_lexer": "ipython3",
   "version": "3.11.4"
  },
  "orig_nbformat": 4
 },
 "nbformat": 4,
 "nbformat_minor": 2
}
